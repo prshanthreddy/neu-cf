{
 "cells": [
  {
   "cell_type": "code",
   "execution_count": 2,
   "metadata": {},
   "outputs": [],
   "source": [
    "import numpy as np\n",
    "import pandas as pd \n",
    "import pickle\n",
    "import gzip\n",
    "# gzip for reading the compressed file\n",
    "from time import time\n",
    "from pathlib import Path\n",
    "from scipy.sparse import save_npz\n",
    "# save_npz for saving the sparse matrix\n",
    "from joblib import Parallel, delayed\n",
    "# Parallel for parallel computing\n",
    "import os"
   ]
  },
  {
   "cell_type": "code",
   "execution_count": 3,
   "metadata": {},
   "outputs": [
    {
     "name": "stdout",
     "output_type": "stream",
     "text": [
      "data\n"
     ]
    }
   ],
   "source": [
    "data_path=Path(\"data\")\n",
    "print(data_path)"
   ]
  },
  {
   "cell_type": "code",
   "execution_count": 4,
   "metadata": {},
   "outputs": [
    {
     "name": "stdout",
     "output_type": "stream",
     "text": [
      "data/reviews_Movies_and_TV_5.json.gz\n"
     ]
    }
   ],
   "source": [
    "reviews =data_path/'reviews_Movies_and_TV_5.json.gz'\n",
    "print(reviews)"
   ]
  },
  {
   "cell_type": "code",
   "execution_count": 14,
   "metadata": {},
   "outputs": [
    {
     "data": {
      "text/html": [
       "<div>\n",
       "<style scoped>\n",
       "    .dataframe tbody tr th:only-of-type {\n",
       "        vertical-align: middle;\n",
       "    }\n",
       "\n",
       "    .dataframe tbody tr th {\n",
       "        vertical-align: top;\n",
       "    }\n",
       "\n",
       "    .dataframe thead th {\n",
       "        text-align: right;\n",
       "    }\n",
       "</style>\n",
       "<table border=\"1\" class=\"dataframe\">\n",
       "  <thead>\n",
       "    <tr style=\"text-align: right;\">\n",
       "      <th></th>\n",
       "      <th>user</th>\n",
       "      <th>item</th>\n",
       "      <th>timestamp</th>\n",
       "      <th>rating</th>\n",
       "    </tr>\n",
       "  </thead>\n",
       "  <tbody>\n",
       "    <tr>\n",
       "      <th>0</th>\n",
       "      <td>ADZPIG9QOCDG5</td>\n",
       "      <td>0005019281</td>\n",
       "      <td>1203984000</td>\n",
       "      <td>4</td>\n",
       "    </tr>\n",
       "    <tr>\n",
       "      <th>1</th>\n",
       "      <td>A35947ZP82G7JH</td>\n",
       "      <td>0005019281</td>\n",
       "      <td>1388361600</td>\n",
       "      <td>3</td>\n",
       "    </tr>\n",
       "    <tr>\n",
       "      <th>2</th>\n",
       "      <td>A3UORV8A9D5L2E</td>\n",
       "      <td>0005019281</td>\n",
       "      <td>1388361600</td>\n",
       "      <td>3</td>\n",
       "    </tr>\n",
       "    <tr>\n",
       "      <th>3</th>\n",
       "      <td>A1VKW06X1O2X7V</td>\n",
       "      <td>0005019281</td>\n",
       "      <td>1202860800</td>\n",
       "      <td>5</td>\n",
       "    </tr>\n",
       "    <tr>\n",
       "      <th>4</th>\n",
       "      <td>A3R27T4HADWFFJ</td>\n",
       "      <td>0005019281</td>\n",
       "      <td>1387670400</td>\n",
       "      <td>4</td>\n",
       "    </tr>\n",
       "  </tbody>\n",
       "</table>\n",
       "</div>"
      ],
      "text/plain": [
       "             user        item   timestamp  rating\n",
       "0   ADZPIG9QOCDG5  0005019281  1203984000       4\n",
       "1  A35947ZP82G7JH  0005019281  1388361600       3\n",
       "2  A3UORV8A9D5L2E  0005019281  1388361600       3\n",
       "3  A1VKW06X1O2X7V  0005019281  1202860800       5\n",
       "4  A3R27T4HADWFFJ  0005019281  1387670400       4"
      ]
     },
     "execution_count": 14,
     "metadata": {},
     "output_type": "execute_result"
    }
   ],
   "source": [
    "df = pd.read_json(reviews, lines=True)\n",
    "keep_cols = ['reviewerID', 'asin', 'unixReviewTime', 'overall']\n",
    "new_colnames = ['user', 'item', 'timestamp', 'rating']\n",
    "df = df[keep_cols]\n",
    "df.columns = new_colnames\n",
    "df.head()"
   ]
  },
  {
   "cell_type": "code",
   "execution_count": 15,
   "metadata": {},
   "outputs": [
    {
     "data": {
      "text/plain": [
       "rating\n",
       "5    906608\n",
       "4    382994\n",
       "3    201302\n",
       "1    104219\n",
       "2    102410\n",
       "Name: count, dtype: int64"
      ]
     },
     "execution_count": 15,
     "metadata": {},
     "output_type": "execute_result"
    }
   ],
   "source": [
    "df.rating.value_counts()"
   ]
  },
  {
   "cell_type": "code",
   "execution_count": 16,
   "metadata": {},
   "outputs": [
    {
     "data": {
      "text/html": [
       "<div>\n",
       "<style scoped>\n",
       "    .dataframe tbody tr th:only-of-type {\n",
       "        vertical-align: middle;\n",
       "    }\n",
       "\n",
       "    .dataframe tbody tr th {\n",
       "        vertical-align: top;\n",
       "    }\n",
       "\n",
       "    .dataframe thead th {\n",
       "        text-align: right;\n",
       "    }\n",
       "</style>\n",
       "<table border=\"1\" class=\"dataframe\">\n",
       "  <thead>\n",
       "    <tr style=\"text-align: right;\">\n",
       "      <th></th>\n",
       "      <th>user</th>\n",
       "      <th>item</th>\n",
       "      <th>rating</th>\n",
       "      <th>rank</th>\n",
       "    </tr>\n",
       "  </thead>\n",
       "  <tbody>\n",
       "    <tr>\n",
       "      <th>0</th>\n",
       "      <td>ADZPIG9QOCDG5</td>\n",
       "      <td>0005019281</td>\n",
       "      <td>4</td>\n",
       "      <td>2.0</td>\n",
       "    </tr>\n",
       "    <tr>\n",
       "      <th>1</th>\n",
       "      <td>A35947ZP82G7JH</td>\n",
       "      <td>0005019281</td>\n",
       "      <td>3</td>\n",
       "      <td>1.0</td>\n",
       "    </tr>\n",
       "    <tr>\n",
       "      <th>2</th>\n",
       "      <td>A3UORV8A9D5L2E</td>\n",
       "      <td>0005019281</td>\n",
       "      <td>3</td>\n",
       "      <td>3.0</td>\n",
       "    </tr>\n",
       "    <tr>\n",
       "      <th>3</th>\n",
       "      <td>A1VKW06X1O2X7V</td>\n",
       "      <td>0005019281</td>\n",
       "      <td>5</td>\n",
       "      <td>1.0</td>\n",
       "    </tr>\n",
       "    <tr>\n",
       "      <th>4</th>\n",
       "      <td>A3R27T4HADWFFJ</td>\n",
       "      <td>0005019281</td>\n",
       "      <td>4</td>\n",
       "      <td>2.0</td>\n",
       "    </tr>\n",
       "  </tbody>\n",
       "</table>\n",
       "</div>"
      ],
      "text/plain": [
       "             user        item  rating  rank\n",
       "0   ADZPIG9QOCDG5  0005019281       4   2.0\n",
       "1  A35947ZP82G7JH  0005019281       3   1.0\n",
       "2  A3UORV8A9D5L2E  0005019281       3   3.0\n",
       "3  A1VKW06X1O2X7V  0005019281       5   1.0\n",
       "4  A3R27T4HADWFFJ  0005019281       4   2.0"
      ]
     },
     "execution_count": 16,
     "metadata": {},
     "output_type": "execute_result"
    }
   ],
   "source": [
    "# (temporal) rank of items bought\n",
    "df['rank'] = df.groupby(\"user\")[\"timestamp\"].rank(ascending=True, method='dense')\n",
    "df.drop(\"timestamp\", axis=1, inplace=True)\n",
    "df.head()"
   ]
  },
  {
   "cell_type": "code",
   "execution_count": 17,
   "metadata": {},
   "outputs": [
    {
     "data": {
      "text/html": [
       "<div>\n",
       "<style scoped>\n",
       "    .dataframe tbody tr th:only-of-type {\n",
       "        vertical-align: middle;\n",
       "    }\n",
       "\n",
       "    .dataframe tbody tr th {\n",
       "        vertical-align: top;\n",
       "    }\n",
       "\n",
       "    .dataframe thead th {\n",
       "        text-align: right;\n",
       "    }\n",
       "</style>\n",
       "<table border=\"1\" class=\"dataframe\">\n",
       "  <thead>\n",
       "    <tr style=\"text-align: right;\">\n",
       "      <th></th>\n",
       "      <th>user</th>\n",
       "      <th>item</th>\n",
       "      <th>rating</th>\n",
       "      <th>rank</th>\n",
       "    </tr>\n",
       "  </thead>\n",
       "  <tbody>\n",
       "    <tr>\n",
       "      <th>0</th>\n",
       "      <td>ADZPIG9QOCDG5</td>\n",
       "      <td>0005019281</td>\n",
       "      <td>4</td>\n",
       "      <td>2.0</td>\n",
       "    </tr>\n",
       "    <tr>\n",
       "      <th>1</th>\n",
       "      <td>A35947ZP82G7JH</td>\n",
       "      <td>0005019281</td>\n",
       "      <td>3</td>\n",
       "      <td>1.0</td>\n",
       "    </tr>\n",
       "    <tr>\n",
       "      <th>2</th>\n",
       "      <td>A3UORV8A9D5L2E</td>\n",
       "      <td>0005019281</td>\n",
       "      <td>3</td>\n",
       "      <td>3.0</td>\n",
       "    </tr>\n",
       "    <tr>\n",
       "      <th>3</th>\n",
       "      <td>A1VKW06X1O2X7V</td>\n",
       "      <td>0005019281</td>\n",
       "      <td>5</td>\n",
       "      <td>1.0</td>\n",
       "    </tr>\n",
       "    <tr>\n",
       "      <th>4</th>\n",
       "      <td>A3R27T4HADWFFJ</td>\n",
       "      <td>0005019281</td>\n",
       "      <td>4</td>\n",
       "      <td>2.0</td>\n",
       "    </tr>\n",
       "    <tr>\n",
       "      <th>5</th>\n",
       "      <td>A2L0G56BNOTX6S</td>\n",
       "      <td>0005019281</td>\n",
       "      <td>5</td>\n",
       "      <td>4.0</td>\n",
       "    </tr>\n",
       "    <tr>\n",
       "      <th>6</th>\n",
       "      <td>A5NYUBEKXFLX5</td>\n",
       "      <td>0005019281</td>\n",
       "      <td>5</td>\n",
       "      <td>7.0</td>\n",
       "    </tr>\n",
       "    <tr>\n",
       "      <th>7</th>\n",
       "      <td>A2DJ8B8GE4V2VD</td>\n",
       "      <td>0005019281</td>\n",
       "      <td>5</td>\n",
       "      <td>2.0</td>\n",
       "    </tr>\n",
       "    <tr>\n",
       "      <th>8</th>\n",
       "      <td>AWF2S3UNW9UA0</td>\n",
       "      <td>0005019281</td>\n",
       "      <td>5</td>\n",
       "      <td>23.0</td>\n",
       "    </tr>\n",
       "    <tr>\n",
       "      <th>9</th>\n",
       "      <td>A3O4UUT83DG3OU</td>\n",
       "      <td>0005019281</td>\n",
       "      <td>5</td>\n",
       "      <td>2.0</td>\n",
       "    </tr>\n",
       "    <tr>\n",
       "      <th>10</th>\n",
       "      <td>A3TK5Q142X5Q8A</td>\n",
       "      <td>0005019281</td>\n",
       "      <td>5</td>\n",
       "      <td>1.0</td>\n",
       "    </tr>\n",
       "    <tr>\n",
       "      <th>11</th>\n",
       "      <td>A33EWPXESP9GQH</td>\n",
       "      <td>0005019281</td>\n",
       "      <td>5</td>\n",
       "      <td>3.0</td>\n",
       "    </tr>\n",
       "    <tr>\n",
       "      <th>12</th>\n",
       "      <td>AG8D804FUG5Y4</td>\n",
       "      <td>0005019281</td>\n",
       "      <td>3</td>\n",
       "      <td>1.0</td>\n",
       "    </tr>\n",
       "    <tr>\n",
       "      <th>13</th>\n",
       "      <td>A1GHUN5HXMHZ89</td>\n",
       "      <td>0005019281</td>\n",
       "      <td>5</td>\n",
       "      <td>716.0</td>\n",
       "    </tr>\n",
       "    <tr>\n",
       "      <th>14</th>\n",
       "      <td>A3VT62AP8KEK3V</td>\n",
       "      <td>0005019281</td>\n",
       "      <td>4</td>\n",
       "      <td>4.0</td>\n",
       "    </tr>\n",
       "    <tr>\n",
       "      <th>15</th>\n",
       "      <td>AAM67Y93KTIOL</td>\n",
       "      <td>0005019281</td>\n",
       "      <td>5</td>\n",
       "      <td>1.0</td>\n",
       "    </tr>\n",
       "    <tr>\n",
       "      <th>16</th>\n",
       "      <td>A1GQF4JDJXBRLH</td>\n",
       "      <td>0005019281</td>\n",
       "      <td>5</td>\n",
       "      <td>2.0</td>\n",
       "    </tr>\n",
       "    <tr>\n",
       "      <th>17</th>\n",
       "      <td>A13KAQO9F5X0FN</td>\n",
       "      <td>0005019281</td>\n",
       "      <td>4</td>\n",
       "      <td>3.0</td>\n",
       "    </tr>\n",
       "    <tr>\n",
       "      <th>18</th>\n",
       "      <td>A3UEOL981G9TXY</td>\n",
       "      <td>0005019281</td>\n",
       "      <td>5</td>\n",
       "      <td>1.0</td>\n",
       "    </tr>\n",
       "    <tr>\n",
       "      <th>19</th>\n",
       "      <td>AZBWH4HLG3JWV</td>\n",
       "      <td>0005019281</td>\n",
       "      <td>5</td>\n",
       "      <td>2.0</td>\n",
       "    </tr>\n",
       "  </tbody>\n",
       "</table>\n",
       "</div>"
      ],
      "text/plain": [
       "              user        item  rating   rank\n",
       "0    ADZPIG9QOCDG5  0005019281       4    2.0\n",
       "1   A35947ZP82G7JH  0005019281       3    1.0\n",
       "2   A3UORV8A9D5L2E  0005019281       3    3.0\n",
       "3   A1VKW06X1O2X7V  0005019281       5    1.0\n",
       "4   A3R27T4HADWFFJ  0005019281       4    2.0\n",
       "5   A2L0G56BNOTX6S  0005019281       5    4.0\n",
       "6    A5NYUBEKXFLX5  0005019281       5    7.0\n",
       "7   A2DJ8B8GE4V2VD  0005019281       5    2.0\n",
       "8    AWF2S3UNW9UA0  0005019281       5   23.0\n",
       "9   A3O4UUT83DG3OU  0005019281       5    2.0\n",
       "10  A3TK5Q142X5Q8A  0005019281       5    1.0\n",
       "11  A33EWPXESP9GQH  0005019281       5    3.0\n",
       "12   AG8D804FUG5Y4  0005019281       3    1.0\n",
       "13  A1GHUN5HXMHZ89  0005019281       5  716.0\n",
       "14  A3VT62AP8KEK3V  0005019281       4    4.0\n",
       "15   AAM67Y93KTIOL  0005019281       5    1.0\n",
       "16  A1GQF4JDJXBRLH  0005019281       5    2.0\n",
       "17  A13KAQO9F5X0FN  0005019281       4    3.0\n",
       "18  A3UEOL981G9TXY  0005019281       5    1.0\n",
       "19   AZBWH4HLG3JWV  0005019281       5    2.0"
      ]
     },
     "execution_count": 17,
     "metadata": {},
     "output_type": "execute_result"
    }
   ],
   "source": [
    "df.head(20)"
   ]
  },
  {
   "cell_type": "code",
   "execution_count": 18,
   "metadata": {},
   "outputs": [
    {
     "data": {
      "text/html": [
       "<div>\n",
       "<style scoped>\n",
       "    .dataframe tbody tr th:only-of-type {\n",
       "        vertical-align: middle;\n",
       "    }\n",
       "\n",
       "    .dataframe tbody tr th {\n",
       "        vertical-align: top;\n",
       "    }\n",
       "\n",
       "    .dataframe thead th {\n",
       "        text-align: right;\n",
       "    }\n",
       "</style>\n",
       "<table border=\"1\" class=\"dataframe\">\n",
       "  <thead>\n",
       "    <tr style=\"text-align: right;\">\n",
       "      <th></th>\n",
       "      <th>user</th>\n",
       "      <th>item</th>\n",
       "      <th>rank</th>\n",
       "      <th>rating</th>\n",
       "    </tr>\n",
       "  </thead>\n",
       "  <tbody>\n",
       "    <tr>\n",
       "      <th>0</th>\n",
       "      <td>0</td>\n",
       "      <td>0</td>\n",
       "      <td>2</td>\n",
       "      <td>4</td>\n",
       "    </tr>\n",
       "    <tr>\n",
       "      <th>1</th>\n",
       "      <td>1</td>\n",
       "      <td>0</td>\n",
       "      <td>1</td>\n",
       "      <td>3</td>\n",
       "    </tr>\n",
       "    <tr>\n",
       "      <th>2</th>\n",
       "      <td>2</td>\n",
       "      <td>0</td>\n",
       "      <td>3</td>\n",
       "      <td>3</td>\n",
       "    </tr>\n",
       "    <tr>\n",
       "      <th>3</th>\n",
       "      <td>3</td>\n",
       "      <td>0</td>\n",
       "      <td>1</td>\n",
       "      <td>5</td>\n",
       "    </tr>\n",
       "    <tr>\n",
       "      <th>4</th>\n",
       "      <td>4</td>\n",
       "      <td>0</td>\n",
       "      <td>2</td>\n",
       "      <td>4</td>\n",
       "    </tr>\n",
       "  </tbody>\n",
       "</table>\n",
       "</div>"
      ],
      "text/plain": [
       "   user  item  rank  rating\n",
       "0     0     0     2       4\n",
       "1     1     0     1       3\n",
       "2     2     0     3       3\n",
       "3     3     0     1       5\n",
       "4     4     0     2       4"
      ]
     },
     "execution_count": 18,
     "metadata": {},
     "output_type": "execute_result"
    }
   ],
   "source": [
    "# mapping user and item ids to (continuos) integers\n",
    "user_mappings = {k:v for v,k in enumerate(df.user.unique())}\n",
    "item_mappings = {k:v for v,k in enumerate(df.item.unique())}\n",
    "df['user'] = df['user'].map(user_mappings)\n",
    "df['item'] = df['item'].map(item_mappings)\n",
    "df = df[['user','item','rank','rating']].astype(np.int64)\n",
    "n_users = df.user.nunique()\n",
    "n_items = df.item.nunique()\n",
    "df.head()"
   ]
  },
  {
   "cell_type": "code",
   "execution_count": 19,
   "metadata": {},
   "outputs": [
    {
     "name": "stdout",
     "output_type": "stream",
     "text": [
      "(1573573, 3) (123960, 3)\n"
     ]
    }
   ],
   "source": [
    "dfc = df.copy()\n",
    "dfc.sort_values(['user','rank'], ascending=[True,True], inplace=True)\n",
    "dfc.reset_index(inplace=True, drop=True)\n",
    "\n",
    "# use last ratings for testing and all the previous for training\n",
    "test = dfc.groupby('user').tail(1)\n",
    "train = pd.merge(dfc, test, on=['user','item'],\n",
    "    how='outer', suffixes=('', '_y'))\n",
    "train = train[train.rating_y.isnull()]\n",
    "test = test[['user','item','rating']]\n",
    "train = train[['user','item','rating']]\n",
    "print(train.shape, test.shape)"
   ]
  },
  {
   "cell_type": "code",
   "execution_count": 20,
   "metadata": {},
   "outputs": [
    {
     "name": "stdout",
     "output_type": "stream",
     "text": [
      "sampling not rated items...\n",
      "sampling took 1.81 min\n"
     ]
    }
   ],
   "source": [
    "# select 99 random movies per user that were never rated by that user\n",
    "all_items = dfc.item.unique()\n",
    "rated_items = (dfc.groupby(\"user\")['item']\n",
    "    .apply(list)\n",
    "    .reset_index()\n",
    "    ).item.tolist()\n",
    "\n",
    "def sample_not_rated(item_list, rseed=1, n=99):\n",
    "    np.random.seed=rseed\n",
    "    return np.random.choice(np.setdiff1d(all_items, item_list), n)\n",
    "\n",
    "print(\"sampling not rated items...\")\n",
    "start = time()\n",
    "non_rated_items = Parallel(n_jobs=4)(delayed(sample_not_rated)(ri) for ri in rated_items)\n",
    "end = time() - start\n",
    "print(\"sampling took {} min\".format(round(end/60,2)))\n",
    "\n",
    "negative = pd.DataFrame({'negative':non_rated_items})\n",
    "negative[['item_n'+str(i) for i in range(99)]] =\\\n",
    "    pd.DataFrame(negative.negative.values.tolist(), index= negative.index)\n",
    "negative.drop('negative', axis=1, inplace=True)\n",
    "negative = negative.stack().reset_index()\n",
    "negative = negative.iloc[:, [0,2]]\n",
    "negative.columns = ['user','item']\n",
    "negative['rating'] = 0\n",
    "assert negative.shape[0] == len(non_rated_items)*99\n",
    "test_negative = (pd.concat([test,negative])\n",
    "    .sort_values('user', ascending=True)\n",
    "    .reset_index(drop=True)\n",
    "    )\n",
    "# Ensuring that the 1st element every 100 is the rated item. This is\n",
    "# fundamental for testing\n",
    "test_negative.sort_values(['user', 'rating'], ascending=[True,False], inplace=True)\n",
    "assert np.all(test_negative.values[0::100][:,2] != 0)"
   ]
  },
  {
   "cell_type": "code",
   "execution_count": 21,
   "metadata": {},
   "outputs": [],
   "source": [
    "user_id = np.random.randint(0, n_users-1)\n",
    "items_rated = test_negative[(test_negative.user==user_id) & (test_negative.rating != 0)]['item'].tolist()\n",
    "items_rated+= train[train.user==user_id]['item'].tolist()\n",
    "items_never_rated = test_negative[(test_negative.user==user_id) & (test_negative.rating == 0)]['item'].tolist()\n",
    "assert len(np.intersect1d(items_rated, items_never_rated)) == 0"
   ]
  },
  {
   "cell_type": "code",
   "execution_count": 24,
   "metadata": {},
   "outputs": [],
   "source": [
    "import scipy.sparse as sp"
   ]
  },
  {
   "cell_type": "code",
   "execution_count": 25,
   "metadata": {},
   "outputs": [],
   "source": [
    "def array2mtx(interactions):\n",
    "    num_users = interactions[:,0].max()\n",
    "    num_items = interactions[:,1].max()\n",
    "    mat = sp.dok_matrix((num_users+1, num_items+1), dtype=np.float32)\n",
    "    for user, item, rating in interactions:\n",
    "            mat[user, item] = rating\n",
    "    return mat.tocsr()"
   ]
  },
  {
   "cell_type": "code",
   "execution_count": 26,
   "metadata": {},
   "outputs": [
    {
     "name": "stdout",
     "output_type": "stream",
     "text": [
      "saving training set as sparse matrix...\n"
     ]
    }
   ],
   "source": [
    "print(\"saving training set as sparse matrix...\")\n",
    "train_mtx = array2mtx(train.values)"
   ]
  },
  {
   "cell_type": "code",
   "execution_count": 27,
   "metadata": {},
   "outputs": [
    {
     "name": "stdout",
     "output_type": "stream",
     "text": [
      "saving training set as sparse matrix...\n"
     ]
    }
   ],
   "source": [
    "# Save\n",
    "np.savez(data_path/\"neuralcf_split.npz\", train=train.values, test=test.values,\n",
    "    test_negative=test_negative.values, negatives=np.array(non_rated_items),\n",
    "    n_users=n_users, n_items=n_items)\n",
    "\n",
    "# Save training as sparse matrix\n",
    "print(\"saving training set as sparse matrix...\")\n",
    "train_mtx = array2mtx(train.values)\n",
    "save_npz(data_path/\"neuralcf_train_sparse.npz\", train_mtx)"
   ]
  },
  {
   "cell_type": "code",
   "execution_count": null,
   "metadata": {},
   "outputs": [],
   "source": []
  }
 ],
 "metadata": {
  "kernelspec": {
   "display_name": "neu-cf-pytorch",
   "language": "python",
   "name": "python3"
  },
  "language_info": {
   "codemirror_mode": {
    "name": "ipython",
    "version": 3
   },
   "file_extension": ".py",
   "mimetype": "text/x-python",
   "name": "python",
   "nbconvert_exporter": "python",
   "pygments_lexer": "ipython3",
   "version": "3.12.5"
  }
 },
 "nbformat": 4,
 "nbformat_minor": 2
}
